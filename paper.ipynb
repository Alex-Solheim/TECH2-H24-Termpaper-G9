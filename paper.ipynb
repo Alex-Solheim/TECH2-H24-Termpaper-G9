{
 "cells": [],
 "metadata": {
  "kernelspec": {
   "display_name": "termpaper",
   "language": "python",
   "name": "python3"
  },
  "language_info": {
   "name": "python"
  }
 },
 "nbformat": 4,
 "nbformat_minor": 2
}
